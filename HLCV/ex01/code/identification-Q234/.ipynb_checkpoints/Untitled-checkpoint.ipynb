{
 "cells": [
  {
   "cell_type": "code",
   "execution_count": 10,
   "metadata": {},
   "outputs": [],
   "source": [
    "import numpy as np\n",
    "from skimage.io import imread\n",
    "from skimage.color import rgb2gray\n",
    "import matplotlib.pyplot as plt\n",
    "from PIL import Image\n",
    "from skimage.util import img_as_ubyte"
   ]
  },
  {
   "cell_type": "code",
   "execution_count": 35,
   "metadata": {},
   "outputs": [],
   "source": [
    "img = imread(\"../filter-Q1/graf.png\")\n",
    "img = rgb2gray(img)"
   ]
  },
  {
   "cell_type": "code",
   "execution_count": 42,
   "metadata": {},
   "outputs": [
    {
     "data": {
      "text/plain": [
       "array([[211, 208, 198, ...,  26,  29,  19],\n",
       "       [208, 212, 212, ...,  32,  25,  21],\n",
       "       [212, 212, 209, ...,  29,  28,  25],\n",
       "       ...,\n",
       "       [ 56,  52,  56, ...,  38,  36,  40],\n",
       "       [ 55,  62,  65, ...,  41,  40,  40],\n",
       "       [ 64,  63,  62, ...,  43,  42,  37]], dtype=uint8)"
      ]
     },
     "execution_count": 42,
     "metadata": {},
     "output_type": "execute_result"
    }
   ],
   "source": [
    "np.uint8(img*255)\n"
   ]
  },
  {
   "cell_type": "code",
   "execution_count": 85,
   "metadata": {},
   "outputs": [],
   "source": [
    "def normalized_hist(img_gray, num_bins):\n",
    "    assert len(img_gray.shape) == 2, 'image dimension mismatch'\n",
    "    assert img_gray.dtype == 'float', 'incorrect image type'\n",
    "    img_dic = np.uint8(img_gray*num_bins/255.)\n",
    "    # your code here\n",
    "    [_,hists] =  np.unique(img_dic, return_counts=True)\n",
    "    return hists, np.arange(0,255,int(255/num_bins))"
   ]
  },
  {
   "cell_type": "code",
   "execution_count": 86,
   "metadata": {},
   "outputs": [
    {
     "data": {
      "text/plain": [
       "(array([    3, 24729, 54631, 33232, 31082, 36569, 30356, 22029, 25593,\n",
       "        30738, 37997, 42789, 53399, 22282, 14340, 12086, 12696, 15769,\n",
       "         6471,  5209]),\n",
       " array([  0,  12,  24,  36,  48,  60,  72,  84,  96, 108, 120, 132, 144,\n",
       "        156, 168, 180, 192, 204, 216, 228, 240, 252]))"
      ]
     },
     "execution_count": 86,
     "metadata": {},
     "output_type": "execute_result"
    }
   ],
   "source": [
    "normalized_hist(img*255,20)"
   ]
  },
  {
   "cell_type": "code",
   "execution_count": 87,
   "metadata": {},
   "outputs": [
    {
     "data": {
      "text/plain": [
       "(array([ 8374, 57247, 37119, 27673, 33683, 34157, 23143, 21252, 27119,\n",
       "        34099, 34151, 47060, 44835, 18432, 13032, 11617, 12199, 15366,\n",
       "         6205,  5237]),\n",
       " array([  9.994 ,  22.1943,  34.3946,  46.5949,  58.7952,  70.9955,\n",
       "         83.1958,  95.3961, 107.5964, 119.7967, 131.997 , 144.1973,\n",
       "        156.3976, 168.5979, 180.7982, 192.9985, 205.1988, 217.3991,\n",
       "        229.5994, 241.7997, 254.    ]))"
      ]
     },
     "execution_count": 87,
     "metadata": {},
     "output_type": "execute_result"
    }
   ],
   "source": [
    "np.histogram(img*255,20)"
   ]
  },
  {
   "cell_type": "code",
   "execution_count": 67,
   "metadata": {},
   "outputs": [
    {
     "data": {
      "text/plain": [
       "(array([ 8374, 57247, 37119, 27673, 33683, 34157, 23143, 21252, 27119,\n",
       "        34099, 34151, 47060, 44835, 18432, 13032, 11617, 12199, 15366,\n",
       "         6205,  5237]),\n",
       " array([  9.994 ,  22.1943,  34.3946,  46.5949,  58.7952,  70.9955,\n",
       "         83.1958,  95.3961, 107.5964, 119.7967, 131.997 , 144.1973,\n",
       "        156.3976, 168.5979, 180.7982, 192.9985, 205.1988, 217.3991,\n",
       "        229.5994, 241.7997, 254.    ]))"
      ]
     },
     "execution_count": 67,
     "metadata": {},
     "output_type": "execute_result"
    }
   ],
   "source": [
    "np.histogram(img*255,20)"
   ]
  },
  {
   "cell_type": "code",
   "execution_count": 88,
   "metadata": {},
   "outputs": [
    {
     "ename": "NameError",
     "evalue": "name 'Image' is not defined",
     "output_type": "error",
     "traceback": [
      "\u001b[0;31m---------------------------------------------------------------------------\u001b[0m",
      "\u001b[0;31mNameError\u001b[0m                                 Traceback (most recent call last)",
      "\u001b[0;32m<ipython-input-88-8ef4ae09087c>\u001b[0m in \u001b[0;36m<module>\u001b[0;34m()\u001b[0m\n\u001b[0;32m----> 1\u001b[0;31m \u001b[0mimg_color\u001b[0m \u001b[0;34m=\u001b[0m \u001b[0mnp\u001b[0m\u001b[0;34m.\u001b[0m\u001b[0marray\u001b[0m\u001b[0;34m(\u001b[0m\u001b[0mImage\u001b[0m\u001b[0;34m.\u001b[0m\u001b[0mopen\u001b[0m\u001b[0;34m(\u001b[0m\u001b[0;34m'./model/obj100__0.png'\u001b[0m\u001b[0;34m)\u001b[0m\u001b[0;34m)\u001b[0m\u001b[0;34m\u001b[0m\u001b[0m\n\u001b[0m\u001b[1;32m      2\u001b[0m \u001b[0mimg_gray\u001b[0m \u001b[0;34m=\u001b[0m \u001b[0mrgb2gray\u001b[0m\u001b[0;34m(\u001b[0m\u001b[0mimg_color\u001b[0m\u001b[0;34m.\u001b[0m\u001b[0mastype\u001b[0m\u001b[0;34m(\u001b[0m\u001b[0;34m'double'\u001b[0m\u001b[0;34m)\u001b[0m\u001b[0;34m)\u001b[0m\u001b[0;34m\u001b[0m\u001b[0m\n\u001b[1;32m      3\u001b[0m \u001b[0;34m\u001b[0m\u001b[0m\n\u001b[1;32m      4\u001b[0m \u001b[0mplt\u001b[0m\u001b[0;34m.\u001b[0m\u001b[0mfigure\u001b[0m\u001b[0;34m(\u001b[0m\u001b[0;34m)\u001b[0m\u001b[0;34m\u001b[0m\u001b[0m\n\u001b[1;32m      5\u001b[0m \u001b[0mplt\u001b[0m\u001b[0;34m.\u001b[0m\u001b[0msubplot\u001b[0m\u001b[0;34m(\u001b[0m\u001b[0;36m1\u001b[0m\u001b[0;34m,\u001b[0m\u001b[0;36m3\u001b[0m\u001b[0;34m,\u001b[0m\u001b[0;36m1\u001b[0m\u001b[0;34m)\u001b[0m\u001b[0;34m\u001b[0m\u001b[0m\n",
      "\u001b[0;31mNameError\u001b[0m: name 'Image' is not defined"
     ]
    }
   ],
   "source": [
    "img_color = np.array(Image.open('./model/obj100__0.png'))\n",
    "img_gray = rgb2gray(img_color.astype('double'))\n",
    "\n",
    "plt.figure()\n",
    "plt.subplot(1,3,1)\n",
    "plt.imshow(img_color)\n",
    "\n",
    "plt.subplot(1,3,2)\n",
    "num_bins_gray = 40\n",
    "hist_gray1, bin_gray1 = hist(img_gray.reshape(img_gray.size), num_bins_gray,(0,255))"
   ]
  },
  {
   "cell_type": "code",
   "execution_count": null,
   "metadata": {},
   "outputs": [],
   "source": []
  }
 ],
 "metadata": {
  "kernelspec": {
   "display_name": "Python 2",
   "language": "python",
   "name": "python2"
  },
  "language_info": {
   "codemirror_mode": {
    "name": "ipython",
    "version": 2
   },
   "file_extension": ".py",
   "mimetype": "text/x-python",
   "name": "python",
   "nbconvert_exporter": "python",
   "pygments_lexer": "ipython2",
   "version": "2.7.15rc1"
  }
 },
 "nbformat": 4,
 "nbformat_minor": 2
}
